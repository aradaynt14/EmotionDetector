{
  "cells": [
    {
      "cell_type": "markdown",
      "metadata": {},
      "source": [
        "<h1>Detecting Emotion from Text</h1>\n",
        "\n",
        "<p style=\"font-size: small\">Ambrose Yip <br>Suryansh Saroch <br>Sami Khan <br>Arad Ayntabli <br>Daniel Folino  <p>"
      ]
    },
    {
      "cell_type": "code",
      "execution_count": 2,
      "metadata": {
        "id": "I9nKUWkv3kMb"
      },
      "outputs": [
        {
          "name": "stderr",
          "output_type": "stream",
          "text": [
            "c:\\Users\\arada\\AppData\\Local\\Programs\\Python\\Python310\\lib\\site-packages\\tqdm\\auto.py:21: TqdmWarning: IProgress not found. Please update jupyter and ipywidgets. See https://ipywidgets.readthedocs.io/en/stable/user_install.html\n",
            "  from .autonotebook import tqdm as notebook_tqdm\n"
          ]
        }
      ],
      "source": [
        "import os\n",
        "import warnings\n",
        "import numpy as np\n",
        "import pandas as pd\n",
        "import matplotlib.pyplot as plt\n",
        "from matplotlib.colors import LinearSegmentedColormap\n",
        "import seaborn as sns\n",
        "import nltk\n",
        "import torch\n",
        "from torch import nn\n",
        "import torch.nn.functional as F\n",
        "from torch.utils.data import TensorDataset, DataLoader\n",
        "from sklearn.model_selection import train_test_split\n",
        "from sklearn.metrics import confusion_matrix, f1_score, precision_score, recall_score\n",
        "from nltk.corpus import stopwords\n",
        "import re\n",
        "from collections import Counter\n",
        "from tqdm.auto import tqdm"
      ]
    },
    {
      "cell_type": "code",
      "execution_count": 3,
      "metadata": {
        "id": "NzG0OkjG3uWx"
      },
      "outputs": [],
      "source": [
        "warnings.filterwarnings(\"ignore\")"
      ]
    },
    {
      "cell_type": "code",
      "execution_count": 4,
      "metadata": {
        "colab": {
          "base_uri": "https://localhost:8080/"
        },
        "id": "67rTFqb97BgB",
        "outputId": "8421fc90-52d9-4a8c-c5c7-7b0da29a2ccb"
      },
      "outputs": [
        {
          "name": "stderr",
          "output_type": "stream",
          "text": [
            "[nltk_data] Downloading package punkt to\n",
            "[nltk_data]     C:\\Users\\arada\\AppData\\Roaming\\nltk_data...\n",
            "[nltk_data]   Package punkt is already up-to-date!\n",
            "[nltk_data] Downloading package stopwords to\n",
            "[nltk_data]     C:\\Users\\arada\\AppData\\Roaming\\nltk_data...\n",
            "[nltk_data]   Package stopwords is already up-to-date!\n",
            "[nltk_data] Downloading package wordnet to\n",
            "[nltk_data]     C:\\Users\\arada\\AppData\\Roaming\\nltk_data...\n",
            "[nltk_data]   Package wordnet is already up-to-date!\n",
            "[nltk_data] Downloading package omw-1.4 to\n",
            "[nltk_data]     C:\\Users\\arada\\AppData\\Roaming\\nltk_data...\n",
            "[nltk_data]   Package omw-1.4 is already up-to-date!\n",
            "[nltk_data] Downloading package punkt_tab to\n",
            "[nltk_data]     C:\\Users\\arada\\AppData\\Roaming\\nltk_data...\n",
            "[nltk_data]   Package punkt_tab is already up-to-date!\n"
          ]
        },
        {
          "data": {
            "text/plain": [
              "True"
            ]
          },
          "execution_count": 4,
          "metadata": {},
          "output_type": "execute_result"
        }
      ],
      "source": [
        "nltk.download('punkt')          # For tokenization\n",
        "nltk.download('stopwords')      # For stop words\n",
        "nltk.download('wordnet')        # For lemmatizer\n",
        "nltk.download('omw-1.4')        # For WordNet Lemmatizer's WordNet data\n",
        "nltk.download('punkt_tab')      # Download data for multilingual sentence tokenization"
      ]
    },
    {
      "cell_type": "code",
      "execution_count": 5,
      "metadata": {
        "id": "GRi9koy332Qq"
      },
      "outputs": [],
      "source": [
        "# Device Configuration\n",
        "device = torch.device('cuda:0' if torch.cuda.is_available() else 'cpu')"
      ]
    },
    {
      "cell_type": "code",
      "execution_count": 6,
      "metadata": {
        "colab": {
          "base_uri": "https://localhost:8080/",
          "height": 424
        },
        "id": "vFh69ifm34Es",
        "outputId": "985e1fb9-3694-4947-cf2b-3287ec379888"
      },
      "outputs": [
        {
          "data": {
            "text/html": [
              "<div>\n",
              "<style scoped>\n",
              "    .dataframe tbody tr th:only-of-type {\n",
              "        vertical-align: middle;\n",
              "    }\n",
              "\n",
              "    .dataframe tbody tr th {\n",
              "        vertical-align: top;\n",
              "    }\n",
              "\n",
              "    .dataframe thead th {\n",
              "        text-align: right;\n",
              "    }\n",
              "</style>\n",
              "<table border=\"1\" class=\"dataframe\">\n",
              "  <thead>\n",
              "    <tr style=\"text-align: right;\">\n",
              "      <th></th>\n",
              "      <th>Unnamed: 0</th>\n",
              "      <th>text</th>\n",
              "      <th>label</th>\n",
              "    </tr>\n",
              "  </thead>\n",
              "  <tbody>\n",
              "    <tr>\n",
              "      <th>0</th>\n",
              "      <td>0</td>\n",
              "      <td>i just feel really helpless and heavy hearted</td>\n",
              "      <td>4</td>\n",
              "    </tr>\n",
              "    <tr>\n",
              "      <th>1</th>\n",
              "      <td>1</td>\n",
              "      <td>ive enjoyed being able to slouch about relax a...</td>\n",
              "      <td>0</td>\n",
              "    </tr>\n",
              "    <tr>\n",
              "      <th>2</th>\n",
              "      <td>2</td>\n",
              "      <td>i gave up my internship with the dmrg and am f...</td>\n",
              "      <td>4</td>\n",
              "    </tr>\n",
              "    <tr>\n",
              "      <th>3</th>\n",
              "      <td>3</td>\n",
              "      <td>i dont know i feel so lost</td>\n",
              "      <td>0</td>\n",
              "    </tr>\n",
              "    <tr>\n",
              "      <th>4</th>\n",
              "      <td>4</td>\n",
              "      <td>i am a kindergarten teacher and i am thoroughl...</td>\n",
              "      <td>4</td>\n",
              "    </tr>\n",
              "    <tr>\n",
              "      <th>...</th>\n",
              "      <td>...</td>\n",
              "      <td>...</td>\n",
              "      <td>...</td>\n",
              "    </tr>\n",
              "    <tr>\n",
              "      <th>416804</th>\n",
              "      <td>416804</td>\n",
              "      <td>i feel like telling these horny devils to find...</td>\n",
              "      <td>2</td>\n",
              "    </tr>\n",
              "    <tr>\n",
              "      <th>416805</th>\n",
              "      <td>416805</td>\n",
              "      <td>i began to realize that when i was feeling agi...</td>\n",
              "      <td>3</td>\n",
              "    </tr>\n",
              "    <tr>\n",
              "      <th>416806</th>\n",
              "      <td>416806</td>\n",
              "      <td>i feel very curious be why previous early dawn...</td>\n",
              "      <td>5</td>\n",
              "    </tr>\n",
              "    <tr>\n",
              "      <th>416807</th>\n",
              "      <td>416807</td>\n",
              "      <td>i feel that becuase of the tyranical nature of...</td>\n",
              "      <td>3</td>\n",
              "    </tr>\n",
              "    <tr>\n",
              "      <th>416808</th>\n",
              "      <td>416808</td>\n",
              "      <td>i think that after i had spent some time inves...</td>\n",
              "      <td>5</td>\n",
              "    </tr>\n",
              "  </tbody>\n",
              "</table>\n",
              "<p>416809 rows × 3 columns</p>\n",
              "</div>"
            ],
            "text/plain": [
              "        Unnamed: 0                                               text  label\n",
              "0                0      i just feel really helpless and heavy hearted      4\n",
              "1                1  ive enjoyed being able to slouch about relax a...      0\n",
              "2                2  i gave up my internship with the dmrg and am f...      4\n",
              "3                3                         i dont know i feel so lost      0\n",
              "4                4  i am a kindergarten teacher and i am thoroughl...      4\n",
              "...            ...                                                ...    ...\n",
              "416804      416804  i feel like telling these horny devils to find...      2\n",
              "416805      416805  i began to realize that when i was feeling agi...      3\n",
              "416806      416806  i feel very curious be why previous early dawn...      5\n",
              "416807      416807  i feel that becuase of the tyranical nature of...      3\n",
              "416808      416808  i think that after i had spent some time inves...      5\n",
              "\n",
              "[416809 rows x 3 columns]"
            ]
          },
          "execution_count": 6,
          "metadata": {},
          "output_type": "execute_result"
        }
      ],
      "source": [
        "data = pd.read_csv('text.csv')\n",
        "\n",
        "# Check for NaN values in the target column\n",
        "if 'label' not in data.columns:\n",
        "    print(\"Column 'label' not found. Here are the columns:\", data.columns)\n",
        "else:\n",
        "    if data['label'].isna().sum() > 0:\n",
        "        print(\"Found NaN in target variable, handling them...\")\n",
        "        data = data.dropna(subset=['label'])\n",
        "\n",
        "data"
      ]
    },
    {
      "cell_type": "markdown",
      "metadata": {},
      "source": [
        "<h2>Preprocessing the data</h2>"
      ]
    },
    {
      "cell_type": "code",
      "execution_count": 7,
      "metadata": {
        "id": "UgyQ6nt63_zh"
      },
      "outputs": [],
      "source": [
        "def clean_text(s: str) -> str:\n",
        "    s = re.sub(r\"[^\\w\\s]\", '', s)  # Remove all non-word characters\n",
        "    s = re.sub(r\"\\s+\", '', s)       # Remove multiple whitespaces\n",
        "    s = re.sub(r\"\\d\", '', s)        # Remove digits\n",
        "    return s\n"
      ]
    },
    {
      "cell_type": "code",
      "execution_count": 8,
      "metadata": {
        "id": "bbbE6B6_4FuU"
      },
      "outputs": [],
      "source": [
        "def build_vocabulary(sentences) -> dict:\n",
        "    word_list = []\n",
        "    stop_words = set(stopwords.words('english'))\n",
        "    for sentence in sentences:\n",
        "        for word in sentence.lower().split():\n",
        "            processed_word = clean_text(word)\n",
        "            if processed_word not in stop_words and processed_word != '':\n",
        "                word_list.append(processed_word)\n",
        "    corpus = Counter(word_list)\n",
        "    most_common_words = sorted(corpus, key=corpus.get, reverse=True)[:1000]\n",
        "    vocab = {w: i+1 for i, w in enumerate(most_common_words)}\n",
        "    return vocab"
      ]
    },
    {
      "cell_type": "code",
      "execution_count": 9,
      "metadata": {
        "id": "FU-06HcZ4Igq"
      },
      "outputs": [],
      "source": [
        "def preprocess_data(df: pd.DataFrame):\n",
        "    X, y = df['text'].values, df['label'].values\n",
        "    X_train, X_test, y_train, y_test = train_test_split(X, y, test_size=.2, stratify=y)\n",
        "    vocab = build_vocabulary(X_train)\n",
        "\n",
        "    def text_to_indices(text_array, vocab_dict):\n",
        "        new_text = []\n",
        "        for sentence in text_array:\n",
        "            indexed_sentence = [vocab_dict[clean_text(word)] for word in sentence.lower().split() if clean_text(word) in vocab_dict]\n",
        "            new_text.append(indexed_sentence)\n",
        "        return new_text\n",
        "\n",
        "    X_train = text_to_indices(X_train, vocab)\n",
        "    X_test = text_to_indices(X_test, vocab)\n",
        "\n",
        "    return X_train, X_test, y_train, y_test, vocab"
      ]
    },
    {
      "cell_type": "code",
      "execution_count": 10,
      "metadata": {
        "id": "Q2LbS5dk4Kag"
      },
      "outputs": [],
      "source": [
        "X_train, X_test, y_train, y_test, vocab = preprocess_data(data)"
      ]
    },
    {
      "cell_type": "code",
      "execution_count": 11,
      "metadata": {
        "id": "JW7gYWgS4Mr5"
      },
      "outputs": [],
      "source": [
        "# Padding Sequences\n",
        "def pad_sequences(sequences, seq_len: int):\n",
        "    features = np.zeros((len(sequences), seq_len), dtype=int)\n",
        "    for i, review in enumerate(sequences):\n",
        "        if len(review) != 0:\n",
        "            features[i, -len(review):] = np.array(review)[:seq_len]\n",
        "    return features"
      ]
    },
    {
      "cell_type": "code",
      "execution_count": 12,
      "metadata": {
        "id": "46Q924lO4P5k"
      },
      "outputs": [],
      "source": [
        "max_seq_length = 30\n",
        "X_train = pad_sequences(X_train, max_seq_length)\n",
        "X_test = pad_sequences(X_test, max_seq_length)"
      ]
    },
    {
      "cell_type": "code",
      "execution_count": 13,
      "metadata": {
        "id": "bttPGqq24Sds"
      },
      "outputs": [],
      "source": [
        "X_train, y_train = torch.Tensor(X_train), torch.LongTensor(y_train)\n",
        "X_test, y_test = torch.Tensor(X_test), torch.LongTensor(y_test)"
      ]
    },
    {
      "cell_type": "code",
      "execution_count": 14,
      "metadata": {
        "colab": {
          "base_uri": "https://localhost:8080/"
        },
        "id": "RwXFdJ3S4byv",
        "outputId": "e1af3ce7-028f-4c45-eeeb-498175310ad5"
      },
      "outputs": [
        {
          "name": "stdout",
          "output_type": "stream",
          "text": [
            "X_train: torch.Size([333447, 30])\n",
            "y_train: torch.Size([333447])\n",
            "X_test: torch.Size([83362, 30])\n",
            "y_test: torch.Size([83362])\n"
          ]
        }
      ],
      "source": [
        "print(\"X_train:\", X_train.shape)\n",
        "print(\"y_train:\", y_train.shape)\n",
        "print(\"X_test:\", X_test.shape)\n",
        "print(\"y_test:\", y_test.shape)"
      ]
    },
    {
      "cell_type": "code",
      "execution_count": 15,
      "metadata": {
        "id": "rFbVpVo44lTv"
      },
      "outputs": [],
      "source": [
        "# Create Datasets and Dataloaders\n",
        "batch_size = 32\n",
        "train_dataset = TensorDataset(X_train, y_train)\n",
        "test_dataset = TensorDataset(X_test, y_test)\n",
        "\n",
        "train_dataloader = DataLoader(train_dataset, batch_size=batch_size, shuffle=True, drop_last=True)\n",
        "test_dataloader = DataLoader(test_dataset, batch_size=batch_size, drop_last=True)"
      ]
    },
    {
      "cell_type": "markdown",
      "metadata": {},
      "source": [
        "<h2>The Model</h2>"
      ]
    },
    {
      "cell_type": "code",
      "execution_count": 16,
      "metadata": {
        "id": "bBOYZLs74pTW"
      },
      "outputs": [],
      "source": [
        "# Model\n",
        "class EmotionClassifier(nn.Module):\n",
        "    def __init__(self, num_layers, vocab_size, hidden_dim, embedding_dim, output_dim, dropout_prob=0.5):\n",
        "        super().__init__()\n",
        "        self.num_layers = num_layers\n",
        "        self.hidden_dim = hidden_dim\n",
        "        self.embedding = nn.Embedding(vocab_size, embedding_dim)\n",
        "        self.lstm = nn.LSTM(embedding_dim, hidden_dim, num_layers=num_layers, batch_first=True)\n",
        "        self.dropout = nn.Dropout(dropout_prob)\n",
        "        self.fc1 = nn.Linear(hidden_dim, hidden_dim // 2)\n",
        "        self.bn1 = nn.BatchNorm1d(hidden_dim // 2)\n",
        "        self.fc2 = nn.Linear(hidden_dim // 2, hidden_dim // 4)\n",
        "        self.bn2 = nn.BatchNorm1d(hidden_dim // 4)\n",
        "        self.output = nn.Linear(hidden_dim // 4, output_dim)\n",
        "\n",
        "    def forward(self, x, hidden):\n",
        "        x = self.embedding(x)\n",
        "        x, hidden = self.lstm(x, hidden)\n",
        "        x = x[:, -1, :]  # Last time step\n",
        "        x = self.dropout(x)\n",
        "        x = F.relu(self.fc1(x))\n",
        "        x = self.bn1(x)\n",
        "        x = F.dropout(x, p=0.5, training=self.training)\n",
        "        x = F.relu(self.fc2(x))\n",
        "        x = self.bn2(x)\n",
        "        x = F.dropout(x, p=0.5, training=self.training)\n",
        "        return self.output(x), hidden\n",
        "\n",
        "    def init_hidden(self, batch_size):\n",
        "        h0 = torch.zeros((self.num_layers, batch_size, self.hidden_dim)).to(device)\n",
        "        c0 = torch.zeros((self.num_layers, batch_size, self.hidden_dim)).to(device)\n",
        "        return (h0, c0)"
      ]
    },
    {
      "cell_type": "code",
      "execution_count": 17,
      "metadata": {
        "id": "Z9-6G6uG4xsL"
      },
      "outputs": [],
      "source": [
        "def create_model():\n",
        "    model = EmotionClassifier(\n",
        "        num_layers=2,\n",
        "        vocab_size=len(vocab) + 1,\n",
        "        hidden_dim=128,\n",
        "        embedding_dim=64,\n",
        "        output_dim=6,\n",
        "        dropout_prob=0.5\n",
        "    )\n",
        "    criterion = nn.CrossEntropyLoss()\n",
        "    optimizer = torch.optim.Adam(model.parameters(), lr=1e-4)\n",
        "    return model, criterion, optimizer\n"
      ]
    },
    {
      "cell_type": "markdown",
      "metadata": {},
      "source": [
        "<h2>Training</h2>"
      ]
    },
    {
      "cell_type": "code",
      "execution_count": 18,
      "metadata": {
        "id": "wZQKpr_a40Li"
      },
      "outputs": [],
      "source": [
        "# Training Function\n",
        "###################################\n",
        "def train_model(epochs):\n",
        "    model, criterion, optimizer = create_model()\n",
        "    model.to(device)\n",
        "\n",
        "    clip = 5\n",
        "    train_acc_history, train_loss_history = [], []\n",
        "    test_acc_history, test_loss_history = [], []\n",
        "    y_true_all, y_pred_all = [], []\n",
        "\n",
        "    for epoch in tqdm(range(epochs), desc=\"Training Progress\"):\n",
        "        # Training\n",
        "        model.train()\n",
        "        hidden = model.init_hidden(batch_size)\n",
        "        batch_accuracies, batch_losses = [], []\n",
        "        for X_batch, y_batch in train_dataloader:\n",
        "            X_batch, y_batch = X_batch.to(device, dtype=torch.int64), y_batch.to(device)\n",
        "            hidden = tuple([each.data for each in hidden])\n",
        "            y_hat, hidden = model(X_batch, hidden)\n",
        "            loss = criterion(y_hat, y_batch)\n",
        "\n",
        "            optimizer.zero_grad()\n",
        "            loss.backward()\n",
        "            nn.utils.clip_grad_norm_(model.parameters(), clip)\n",
        "            optimizer.step()\n",
        "\n",
        "            preds = torch.argmax(y_hat.detach().cpu(), axis=1)\n",
        "            acc = (preds == y_batch.cpu()).float().mean() * 100\n",
        "            batch_accuracies.append(acc.item())\n",
        "            batch_losses.append(loss.item())\n",
        "\n",
        "        train_acc = np.mean(batch_accuracies)\n",
        "        train_loss = np.mean(batch_losses)\n",
        "        train_acc_history.append(train_acc)\n",
        "        train_loss_history.append(train_loss)\n",
        "\n",
        "        # Validation\n",
        "        model.eval()\n",
        "        hidden = model.init_hidden(batch_size)\n",
        "        batch_accuracies, batch_losses = [], []\n",
        "        with torch.no_grad():\n",
        "            for X_batch, y_batch in test_dataloader:\n",
        "                X_batch, y_batch = X_batch.to(device, dtype=torch.int64), y_batch.to(device)\n",
        "                hidden = tuple([each.data for each in hidden])\n",
        "                y_hat, hidden = model(X_batch, hidden)\n",
        "                loss = criterion(y_hat, y_batch)\n",
        "\n",
        "                preds = torch.argmax(y_hat.cpu(), axis=1)\n",
        "                acc = (preds == y_batch.cpu()).float().mean() * 100\n",
        "                batch_accuracies.append(acc.item())\n",
        "                batch_losses.append(loss.item())\n",
        "\n",
        "                y_true_all.extend(y_batch.cpu().tolist())\n",
        "                y_pred_all.extend(preds.tolist())\n",
        "\n",
        "        test_acc = np.mean(batch_accuracies)\n",
        "        test_loss = np.mean(batch_losses)\n",
        "        test_acc_history.append(test_acc)\n",
        "        test_loss_history.append(test_loss)\n",
        "\n",
        "        print(f\"Epoch {epoch+1}/{epochs} | Train Acc: {train_acc:.2f}% | Train Loss: {train_loss:.4f} | Test Acc: {test_acc:.2f}% | Test Loss: {test_loss:.4f}\")\n",
        "\n",
        "    return model, train_acc_history, test_acc_history, train_loss_history, test_loss_history, y_true_all, y_pred_all"
      ]
    },
    {
      "cell_type": "code",
      "execution_count": 19,
      "metadata": {
        "colab": {
          "base_uri": "https://localhost:8080/",
          "height": 406,
          "referenced_widgets": [
            "5e6a09f463e94507baabb686f2dfb096",
            "519a15a6dee2461d8200e1cf90f65ba4",
            "626aabab42404f5aac02a2b2a989f50e",
            "2825c0feb3a24e31a5db30eac21cc234",
            "e85177ad8c2845b7a7f6f5eacd4720c8",
            "f9d77275208c4c2e87feb88a618baace",
            "08a32c8e18924a509c5d3e78b47ba063",
            "29d8db0c78684df88f7ffacd0118696f",
            "a6d5ded613254d0a942c59950d268398",
            "372534ac6ca441f18aa1cdefd1dd5614",
            "e8f541029b374a2280100c35a9fb00f5"
          ]
        },
        "id": "bHwEyWa944rb",
        "outputId": "c355c8cc-d4c9-408b-dfdd-65629c8483da"
      },
      "outputs": [
        {
          "name": "stderr",
          "output_type": "stream",
          "text": [
            "Training Progress:   5%|▌         | 1/20 [02:29<47:15, 149.24s/it]"
          ]
        },
        {
          "name": "stdout",
          "output_type": "stream",
          "text": [
            "Epoch 1/20 | Train Acc: 46.34% | Train Loss: 1.3911 | Test Acc: 75.15% | Test Loss: 0.7256\n"
          ]
        },
        {
          "name": "stderr",
          "output_type": "stream",
          "text": [
            "Training Progress:  10%|█         | 2/20 [04:47<42:51, 142.83s/it]"
          ]
        },
        {
          "name": "stdout",
          "output_type": "stream",
          "text": [
            "Epoch 2/20 | Train Acc: 79.77% | Train Loss: 0.6200 | Test Acc: 87.00% | Test Loss: 0.3739\n"
          ]
        },
        {
          "name": "stderr",
          "output_type": "stream",
          "text": [
            "Training Progress:  15%|█▌        | 3/20 [07:09<40:21, 142.43s/it]"
          ]
        },
        {
          "name": "stdout",
          "output_type": "stream",
          "text": [
            "Epoch 3/20 | Train Acc: 86.07% | Train Loss: 0.4443 | Test Acc: 87.92% | Test Loss: 0.3223\n"
          ]
        },
        {
          "name": "stderr",
          "output_type": "stream",
          "text": [
            "Training Progress:  20%|██        | 4/20 [09:24<37:14, 139.63s/it]"
          ]
        },
        {
          "name": "stdout",
          "output_type": "stream",
          "text": [
            "Epoch 4/20 | Train Acc: 87.68% | Train Loss: 0.3838 | Test Acc: 88.97% | Test Loss: 0.2821\n"
          ]
        },
        {
          "name": "stderr",
          "output_type": "stream",
          "text": [
            "Training Progress:  25%|██▌       | 5/20 [11:38<34:21, 137.43s/it]"
          ]
        },
        {
          "name": "stdout",
          "output_type": "stream",
          "text": [
            "Epoch 5/20 | Train Acc: 88.29% | Train Loss: 0.3524 | Test Acc: 89.10% | Test Loss: 0.2621\n"
          ]
        },
        {
          "name": "stderr",
          "output_type": "stream",
          "text": [
            "Training Progress:  30%|███       | 6/20 [13:53<31:54, 136.77s/it]"
          ]
        },
        {
          "name": "stdout",
          "output_type": "stream",
          "text": [
            "Epoch 6/20 | Train Acc: 88.60% | Train Loss: 0.3307 | Test Acc: 89.09% | Test Loss: 0.2535\n"
          ]
        },
        {
          "name": "stderr",
          "output_type": "stream",
          "text": [
            "Training Progress:  35%|███▌      | 7/20 [16:10<29:37, 136.73s/it]"
          ]
        },
        {
          "name": "stdout",
          "output_type": "stream",
          "text": [
            "Epoch 7/20 | Train Acc: 88.85% | Train Loss: 0.3168 | Test Acc: 89.20% | Test Loss: 0.2472\n"
          ]
        },
        {
          "name": "stderr",
          "output_type": "stream",
          "text": [
            "Training Progress:  40%|████      | 8/20 [18:25<27:12, 136.01s/it]"
          ]
        },
        {
          "name": "stdout",
          "output_type": "stream",
          "text": [
            "Epoch 8/20 | Train Acc: 89.10% | Train Loss: 0.3035 | Test Acc: 89.06% | Test Loss: 0.2418\n"
          ]
        },
        {
          "name": "stderr",
          "output_type": "stream",
          "text": [
            "Training Progress:  45%|████▌     | 9/20 [20:41<24:57, 136.09s/it]"
          ]
        },
        {
          "name": "stdout",
          "output_type": "stream",
          "text": [
            "Epoch 9/20 | Train Acc: 89.18% | Train Loss: 0.2954 | Test Acc: 89.12% | Test Loss: 0.2397\n"
          ]
        },
        {
          "name": "stderr",
          "output_type": "stream",
          "text": [
            "Training Progress:  50%|█████     | 10/20 [23:03<22:59, 137.94s/it]"
          ]
        },
        {
          "name": "stdout",
          "output_type": "stream",
          "text": [
            "Epoch 10/20 | Train Acc: 89.27% | Train Loss: 0.2898 | Test Acc: 89.33% | Test Loss: 0.2375\n"
          ]
        },
        {
          "name": "stderr",
          "output_type": "stream",
          "text": [
            "Training Progress:  55%|█████▌    | 11/20 [25:27<20:58, 139.80s/it]"
          ]
        },
        {
          "name": "stdout",
          "output_type": "stream",
          "text": [
            "Epoch 11/20 | Train Acc: 89.33% | Train Loss: 0.2847 | Test Acc: 89.47% | Test Loss: 0.2384\n"
          ]
        },
        {
          "name": "stderr",
          "output_type": "stream",
          "text": [
            "Training Progress:  60%|██████    | 12/20 [27:54<18:57, 142.16s/it]"
          ]
        },
        {
          "name": "stdout",
          "output_type": "stream",
          "text": [
            "Epoch 12/20 | Train Acc: 89.36% | Train Loss: 0.2812 | Test Acc: 89.41% | Test Loss: 0.2329\n"
          ]
        },
        {
          "name": "stderr",
          "output_type": "stream",
          "text": [
            "Training Progress:  65%|██████▌   | 13/20 [30:27<16:56, 145.23s/it]"
          ]
        },
        {
          "name": "stdout",
          "output_type": "stream",
          "text": [
            "Epoch 13/20 | Train Acc: 89.48% | Train Loss: 0.2765 | Test Acc: 89.36% | Test Loss: 0.2342\n"
          ]
        },
        {
          "name": "stderr",
          "output_type": "stream",
          "text": [
            "Training Progress:  70%|███████   | 14/20 [32:56<14:38, 146.40s/it]"
          ]
        },
        {
          "name": "stdout",
          "output_type": "stream",
          "text": [
            "Epoch 14/20 | Train Acc: 89.55% | Train Loss: 0.2736 | Test Acc: 89.47% | Test Loss: 0.2337\n"
          ]
        },
        {
          "name": "stderr",
          "output_type": "stream",
          "text": [
            "Training Progress:  75%|███████▌  | 15/20 [35:24<12:14, 146.85s/it]"
          ]
        },
        {
          "name": "stdout",
          "output_type": "stream",
          "text": [
            "Epoch 15/20 | Train Acc: 89.70% | Train Loss: 0.2700 | Test Acc: 89.26% | Test Loss: 0.2336\n"
          ]
        },
        {
          "name": "stderr",
          "output_type": "stream",
          "text": [
            "Training Progress:  80%|████████  | 16/20 [37:49<09:45, 146.44s/it]"
          ]
        },
        {
          "name": "stdout",
          "output_type": "stream",
          "text": [
            "Epoch 16/20 | Train Acc: 89.74% | Train Loss: 0.2657 | Test Acc: 89.12% | Test Loss: 0.2334\n"
          ]
        },
        {
          "name": "stderr",
          "output_type": "stream",
          "text": [
            "Training Progress:  85%|████████▌ | 17/20 [40:13<07:16, 145.51s/it]"
          ]
        },
        {
          "name": "stdout",
          "output_type": "stream",
          "text": [
            "Epoch 17/20 | Train Acc: 89.80% | Train Loss: 0.2640 | Test Acc: 89.39% | Test Loss: 0.2331\n"
          ]
        },
        {
          "name": "stderr",
          "output_type": "stream",
          "text": [
            "Training Progress:  90%|█████████ | 18/20 [42:30<04:46, 143.01s/it]"
          ]
        },
        {
          "name": "stdout",
          "output_type": "stream",
          "text": [
            "Epoch 18/20 | Train Acc: 89.85% | Train Loss: 0.2603 | Test Acc: 89.30% | Test Loss: 0.2362\n"
          ]
        },
        {
          "name": "stderr",
          "output_type": "stream",
          "text": [
            "Training Progress:  95%|█████████▌| 19/20 [44:40<02:19, 139.05s/it]"
          ]
        },
        {
          "name": "stdout",
          "output_type": "stream",
          "text": [
            "Epoch 19/20 | Train Acc: 89.93% | Train Loss: 0.2578 | Test Acc: 89.13% | Test Loss: 0.2367\n"
          ]
        },
        {
          "name": "stderr",
          "output_type": "stream",
          "text": [
            "Training Progress: 100%|██████████| 20/20 [46:51<00:00, 140.57s/it]"
          ]
        },
        {
          "name": "stdout",
          "output_type": "stream",
          "text": [
            "Epoch 20/20 | Train Acc: 89.97% | Train Loss: 0.2551 | Test Acc: 89.18% | Test Loss: 0.2389\n"
          ]
        },
        {
          "name": "stderr",
          "output_type": "stream",
          "text": [
            "\n"
          ]
        }
      ],
      "source": [
        "# Train the Model\n",
        "epochs = 20\n",
        "model, train_acc, test_acc, train_loss, test_loss, y_true, y_pred = train_model(epochs)"
      ]
    },
    {
      "cell_type": "markdown",
      "metadata": {},
      "source": [
        "<h2>Results</h2>"
      ]
    },
    {
      "cell_type": "code",
      "execution_count": 20,
      "metadata": {
        "colab": {
          "base_uri": "https://localhost:8080/",
          "height": 505
        },
        "id": "jZhxDYDH5CeF",
        "outputId": "4a604cf3-0487-48e2-851c-2850f21266ea"
      },
      "outputs": [
        {
          "data": {
            "text/plain": [
              "<matplotlib.legend.Legend at 0x23163225900>"
            ]
          },
          "execution_count": 20,
          "metadata": {},
          "output_type": "execute_result"
        },
        {
          "data": {
            "image/png": "[encoded data removed]",
            "text/plain": [
              "<Figure size 1200x500 with 1 Axes>"
            ]
          },
          "metadata": {},
          "output_type": "display_data"
        }
      ],
      "source": [
        "# Accuracy Curves\n",
        "plt.figure(figsize=(12,5))\n",
        "plt.subplot(1,2,1)\n",
        "plt.plot(train_acc, 'o-', label='Train Accuracy')\n",
        "plt.plot(test_acc, 'o-', label='Test Accuracy')\n",
        "plt.title(f'Final Test Accuracy: {test_acc[-1]:.2f}%')\n",
        "plt.xlabel('Epoch')\n",
        "plt.ylabel('Accuracy (%)')\n",
        "plt.legend()\n"
      ]
    },
    {
      "cell_type": "code",
      "execution_count": 21,
      "metadata": {
        "colab": {
          "base_uri": "https://localhost:8080/",
          "height": 487
        },
        "id": "WdxosndF5DE9",
        "outputId": "ed999db6-0d34-4bf5-de3b-90410d9fd99b"
      },
      "outputs": [
        {
          "data": {
            "image/png": "[encoded data removed]",
            "text/plain": [
              "<Figure size 640x480 with 1 Axes>"
            ]
          },
          "metadata": {},
          "output_type": "display_data"
        }
      ],
      "source": [
        "# Loss Curves\n",
        "plt.subplot(1,2,2)\n",
        "plt.plot(train_loss, 'o-', label='Train Loss')\n",
        "plt.plot(test_loss, 'o-', label='Test Loss')\n",
        "plt.title(f'Final Test Loss: {test_loss[-1]:.4f}')\n",
        "plt.xlabel('Epoch')\n",
        "plt.ylabel('Loss')\n",
        "plt.legend()\n",
        "plt.tight_layout()\n",
        "plt.show()\n"
      ]
    },
    {
      "cell_type": "code",
      "execution_count": 22,
      "metadata": {
        "colab": {
          "base_uri": "https://localhost:8080/",
          "height": 564
        },
        "id": "nFqkYeTM5Ep0",
        "outputId": "a3b87c54-9192-4d42-a50f-147540a33133"
      },
      "outputs": [
        {
          "data": {
            "image/png": "[encoded data removed]",
            "text/plain": [
              "<Figure size 800x600 with 2 Axes>"
            ]
          },
          "metadata": {},
          "output_type": "display_data"
        }
      ],
      "source": [
        "# Confusion Matrix\n",
        "\n",
        "cm = confusion_matrix(y_true, y_pred)\n",
        "color_list = ['#faa5c7', '#eb679c', '#cc3d76', '#b3245d', '#d40457', '#8f1042', '#6e042e']\n",
        "cmap = LinearSegmentedColormap.from_list('custom_palette', color_list, N=256)\n",
        "\n",
        "plt.figure(figsize=(8,6))\n",
        "sns.heatmap(cm, annot=True, cmap=cmap, fmt='g')\n",
        "plt.xlabel('Predicted')\n",
        "plt.ylabel('Actual')\n",
        "plt.title('Confusion Matrix')\n",
        "plt.show()"
      ]
    },
    {
      "cell_type": "code",
      "execution_count": 23,
      "metadata": {
        "colab": {
          "base_uri": "https://localhost:8080/"
        },
        "id": "p9ZTgx_05MhJ",
        "outputId": "067ce717-85ea-40de-a8e9-be3060ab3b7a"
      },
      "outputs": [
        {
          "name": "stdout",
          "output_type": "stream",
          "text": [
            "Precision: 0.8835 | Recall: 0.8835 | F1-Score: 0.8835\n"
          ]
        }
      ],
      "source": [
        "# Performance Metrics\n",
        "precision = precision_score(y_true, y_pred, average='micro')\n",
        "recall = recall_score(y_true, y_pred, average='micro')\n",
        "f1 = f1_score(y_true, y_pred, average='micro')\n",
        "\n",
        "print(f\"Precision: {precision:.4f} | Recall: {recall:.4f} | F1-Score: {f1:.4f}\")"
      ]
    },
    {
      "cell_type": "markdown",
      "metadata": {},
      "source": [
        "<h2>Demo Run</h2>"
      ]
    },
    {
      "cell_type": "code",
      "execution_count": 24,
      "metadata": {},
      "outputs": [],
      "source": [
        "def predict_emotion(sentence, vocab, model, max_seq_length):\n",
        "    #preprocess the sentence\n",
        "    emotion = {0:'Sadness',1:'Joy',2:'love',3:'anger',4:'fear',5:'surprise'}\n",
        "    words = [clean_text(word) for word in sentence.lower().split()]\n",
        "    indices = [vocab[word] for word in words if word in vocab]\n",
        "    \n",
        "    padded_sequence = pad_sequences([indices], max_seq_length)\n",
        "    #convert it to a tensor\n",
        "    input_tensor = torch.Tensor(padded_sequence).to(device, dtype=torch.int64)\n",
        "    #make the prediction\n",
        "    model.eval()\n",
        "    hidden = model.init_hidden(1)\n",
        "    with torch.no_grad():\n",
        "        output,_ = model(input_tensor,hidden)\n",
        "        prediction = torch.argmax(output, axis=1).item()\n",
        "    return emotion[prediction]"
      ]
    },
    {
      "cell_type": "code",
      "execution_count": 25,
      "metadata": {},
      "outputs": [
        {
          "name": "stdout",
          "output_type": "stream",
          "text": [
            "The predicted emotion is fear\n",
            "\n"
          ]
        }
      ],
      "source": [
        "prediction = predict_emotion(\"I'm scared of chocolate\", vocab, model, max_seq_length)\n",
        "print(f\"The predicted emotion is {prediction}\\n\")\n"
      ]
    },
    {
      "cell_type": "code",
      "execution_count": 26,
      "metadata": {},
      "outputs": [
        {
          "name": "stdout",
          "output_type": "stream",
          "text": [
            "The predicted emotion is Joy\n",
            "\n"
          ]
        }
      ],
      "source": [
        "prediction = predict_emotion(\"I am so happy I took machine learning\", vocab, model, max_seq_length)\n",
        "print(f\"The predicted emotion is {prediction}\\n\")"
      ]
    }
  ],
  "metadata": {
    "accelerator": "GPU",
    "colab": {
      "gpuType": "T4",
      "provenance": []
    },
    "kernelspec": {
      "display_name": "Python 3",
      "name": "python3"
    },
    "language_info": {
      "codemirror_mode": {
        "name": "ipython",
        "version": 3
      },
      "file_extension": ".py",
      "mimetype": "text/x-python",
      "name": "python",
      "nbconvert_exporter": "python",
      "pygments_lexer": "ipython3",
      "version": "3.10.7"
    },
    "widgets": {
      "application/vnd.jupyter.widget-state+json": {
        "08a32c8e18924a509c5d3e78b47ba063": {
          "model_module": "@jupyter-widgets/controls",
          "model_module_version": "1.5.0",
          "model_name": "DescriptionStyleModel",
          "state": {
            "_model_module": "@jupyter-widgets/controls",
            "_model_module_version": "1.5.0",
            "_model_name": "DescriptionStyleModel",
            "_view_count": null,
            "_view_module": "@jupyter-widgets/base",
            "_view_module_version": "1.2.0",
            "_view_name": "StyleView",
            "description_width": ""
          }
        },
        "2825c0feb3a24e31a5db30eac21cc234": {
          "model_module": "@jupyter-widgets/controls",
          "model_module_version": "1.5.0",
          "model_name": "HTMLModel",
          "state": {
            "_dom_classes": [],
            "_model_module": "@jupyter-widgets/controls",
            "_model_module_version": "1.5.0",
            "_model_name": "HTMLModel",
            "_view_count": null,
            "_view_module": "@jupyter-widgets/controls",
            "_view_module_version": "1.5.0",
            "_view_name": "HTMLView",
            "description": "",
            "description_tooltip": null,
            "layout": "IPY_MODEL_372534ac6ca441f18aa1cdefd1dd5614",
            "placeholder": "​",
            "style": "IPY_MODEL_e8f541029b374a2280100c35a9fb00f5",
            "value": " 20/20 [17:18&lt;00:00, 51.71s/it]"
          }
        },
        "29d8db0c78684df88f7ffacd0118696f": {
          "model_module": "@jupyter-widgets/base",
          "model_module_version": "1.2.0",
          "model_name": "LayoutModel",
          "state": {
            "_model_module": "@jupyter-widgets/base",
            "_model_module_version": "1.2.0",
            "_model_name": "LayoutModel",
            "_view_count": null,
            "_view_module": "@jupyter-widgets/base",
            "_view_module_version": "1.2.0",
            "_view_name": "LayoutView",
            "align_content": null,
            "align_items": null,
            "align_self": null,
            "border": null,
            "bottom": null,
            "display": null,
            "flex": null,
            "flex_flow": null,
            "grid_area": null,
            "grid_auto_columns": null,
            "grid_auto_flow": null,
            "grid_auto_rows": null,
            "grid_column": null,
            "grid_gap": null,
            "grid_row": null,
            "grid_template_areas": null,
            "grid_template_columns": null,
            "grid_template_rows": null,
            "height": null,
            "justify_content": null,
            "justify_items": null,
            "left": null,
            "margin": null,
            "max_height": null,
            "max_width": null,
            "min_height": null,
            "min_width": null,
            "object_fit": null,
            "object_position": null,
            "order": null,
            "overflow": null,
            "overflow_x": null,
            "overflow_y": null,
            "padding": null,
            "right": null,
            "top": null,
            "visibility": null,
            "width": null
          }
        },
        "372534ac6ca441f18aa1cdefd1dd5614": {
          "model_module": "@jupyter-widgets/base",
          "model_module_version": "1.2.0",
          "model_name": "LayoutModel",
          "state": {
            "_model_module": "@jupyter-widgets/base",
            "_model_module_version": "1.2.0",
            "_model_name": "LayoutModel",
            "_view_count": null,
            "_view_module": "@jupyter-widgets/base",
            "_view_module_version": "1.2.0",
            "_view_name": "LayoutView",
            "align_content": null,
            "align_items": null,
            "align_self": null,
            "border": null,
            "bottom": null,
            "display": null,
            "flex": null,
            "flex_flow": null,
            "grid_area": null,
            "grid_auto_columns": null,
            "grid_auto_flow": null,
            "grid_auto_rows": null,
            "grid_column": null,
            "grid_gap": null,
            "grid_row": null,
            "grid_template_areas": null,
            "grid_template_columns": null,
            "grid_template_rows": null,
            "height": null,
            "justify_content": null,
            "justify_items": null,
            "left": null,
            "margin": null,
            "max_height": null,
            "max_width": null,
            "min_height": null,
            "min_width": null,
            "object_fit": null,
            "object_position": null,
            "order": null,
            "overflow": null,
            "overflow_x": null,
            "overflow_y": null,
            "padding": null,
            "right": null,
            "top": null,
            "visibility": null,
            "width": null
          }
        },
        "519a15a6dee2461d8200e1cf90f65ba4": {
          "model_module": "@jupyter-widgets/controls",
          "model_module_version": "1.5.0",
          "model_name": "HTMLModel",
          "state": {
            "_dom_classes": [],
            "_model_module": "@jupyter-widgets/controls",
            "_model_module_version": "1.5.0",
            "_model_name": "HTMLModel",
            "_view_count": null,
            "_view_module": "@jupyter-widgets/controls",
            "_view_module_version": "1.5.0",
            "_view_name": "HTMLView",
            "description": "",
            "description_tooltip": null,
            "layout": "IPY_MODEL_f9d77275208c4c2e87feb88a618baace",
            "placeholder": "​",
            "style": "IPY_MODEL_08a32c8e18924a509c5d3e78b47ba063",
            "value": "Training Progress: 100%"
          }
        },
        "5e6a09f463e94507baabb686f2dfb096": {
          "model_module": "@jupyter-widgets/controls",
          "model_module_version": "1.5.0",
          "model_name": "HBoxModel",
          "state": {
            "_dom_classes": [],
            "_model_module": "@jupyter-widgets/controls",
            "_model_module_version": "1.5.0",
            "_model_name": "HBoxModel",
            "_view_count": null,
            "_view_module": "@jupyter-widgets/controls",
            "_view_module_version": "1.5.0",
            "_view_name": "HBoxView",
            "box_style": "",
            "children": [
              "IPY_MODEL_519a15a6dee2461d8200e1cf90f65ba4",
              "IPY_MODEL_626aabab42404f5aac02a2b2a989f50e",
              "IPY_MODEL_2825c0feb3a24e31a5db30eac21cc234"
            ],
            "layout": "IPY_MODEL_e85177ad8c2845b7a7f6f5eacd4720c8"
          }
        },
        "626aabab42404f5aac02a2b2a989f50e": {
          "model_module": "@jupyter-widgets/controls",
          "model_module_version": "1.5.0",
          "model_name": "FloatProgressModel",
          "state": {
            "_dom_classes": [],
            "_model_module": "@jupyter-widgets/controls",
            "_model_module_version": "1.5.0",
            "_model_name": "FloatProgressModel",
            "_view_count": null,
            "_view_module": "@jupyter-widgets/controls",
            "_view_module_version": "1.5.0",
            "_view_name": "ProgressView",
            "bar_style": "success",
            "description": "",
            "description_tooltip": null,
            "layout": "IPY_MODEL_29d8db0c78684df88f7ffacd0118696f",
            "max": 20,
            "min": 0,
            "orientation": "horizontal",
            "style": "IPY_MODEL_a6d5ded613254d0a942c59950d268398",
            "value": 20
          }
        },
        "a6d5ded613254d0a942c59950d268398": {
          "model_module": "@jupyter-widgets/controls",
          "model_module_version": "1.5.0",
          "model_name": "ProgressStyleModel",
          "state": {
            "_model_module": "@jupyter-widgets/controls",
            "_model_module_version": "1.5.0",
            "_model_name": "ProgressStyleModel",
            "_view_count": null,
            "_view_module": "@jupyter-widgets/base",
            "_view_module_version": "1.2.0",
            "_view_name": "StyleView",
            "bar_color": null,
            "description_width": ""
          }
        },
        "e85177ad8c2845b7a7f6f5eacd4720c8": {
          "model_module": "@jupyter-widgets/base",
          "model_module_version": "1.2.0",
          "model_name": "LayoutModel",
          "state": {
            "_model_module": "@jupyter-widgets/base",
            "_model_module_version": "1.2.0",
            "_model_name": "LayoutModel",
            "_view_count": null,
            "_view_module": "@jupyter-widgets/base",
            "_view_module_version": "1.2.0",
            "_view_name": "LayoutView",
            "align_content": null,
            "align_items": null,
            "align_self": null,
            "border": null,
            "bottom": null,
            "display": null,
            "flex": null,
            "flex_flow": null,
            "grid_area": null,
            "grid_auto_columns": null,
            "grid_auto_flow": null,
            "grid_auto_rows": null,
            "grid_column": null,
            "grid_gap": null,
            "grid_row": null,
            "grid_template_areas": null,
            "grid_template_columns": null,
            "grid_template_rows": null,
            "height": null,
            "justify_content": null,
            "justify_items": null,
            "left": null,
            "margin": null,
            "max_height": null,
            "max_width": null,
            "min_height": null,
            "min_width": null,
            "object_fit": null,
            "object_position": null,
            "order": null,
            "overflow": null,
            "overflow_x": null,
            "overflow_y": null,
            "padding": null,
            "right": null,
            "top": null,
            "visibility": null,
            "width": null
          }
        },
        "e8f541029b374a2280100c35a9fb00f5": {
          "model_module": "@jupyter-widgets/controls",
          "model_module_version": "1.5.0",
          "model_name": "DescriptionStyleModel",
          "state": {
            "_model_module": "@jupyter-widgets/controls",
            "_model_module_version": "1.5.0",
            "_model_name": "DescriptionStyleModel",
            "_view_count": null,
            "_view_module": "@jupyter-widgets/base",
            "_view_module_version": "1.2.0",
            "_view_name": "StyleView",
            "description_width": ""
          }
        },
        "f9d77275208c4c2e87feb88a618baace": {
          "model_module": "@jupyter-widgets/base",
          "model_module_version": "1.2.0",
          "model_name": "LayoutModel",
          "state": {
            "_model_module": "@jupyter-widgets/base",
            "_model_module_version": "1.2.0",
            "_model_name": "LayoutModel",
            "_view_count": null,
            "_view_module": "@jupyter-widgets/base",
            "_view_module_version": "1.2.0",
            "_view_name": "LayoutView",
            "align_content": null,
            "align_items": null,
            "align_self": null,
            "border": null,
            "bottom": null,
            "display": null,
            "flex": null,
            "flex_flow": null,
            "grid_area": null,
            "grid_auto_columns": null,
            "grid_auto_flow": null,
            "grid_auto_rows": null,
            "grid_column": null,
            "grid_gap": null,
            "grid_row": null,
            "grid_template_areas": null,
            "grid_template_columns": null,
            "grid_template_rows": null,
            "height": null,
            "justify_content": null,
            "justify_items": null,
            "left": null,
            "margin": null,
            "max_height": null,
            "max_width": null,
            "min_height": null,
            "min_width": null,
            "object_fit": null,
            "object_position": null,
            "order": null,
            "overflow": null,
            "overflow_x": null,
            "overflow_y": null,
            "padding": null,
            "right": null,
            "top": null,
            "visibility": null,
            "width": null
          }
        }
      }
    }
  },
  "nbformat": 4,
  "nbformat_minor": 0
}
